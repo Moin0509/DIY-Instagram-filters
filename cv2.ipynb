{
 "cells": [
  {
   "cell_type": "code",
   "execution_count": 6,
   "id": "c42dbb03",
   "metadata": {},
   "outputs": [],
   "source": [
    "import cv2 as cv\n",
    "import numpy as np"
   ]
  },
  {
   "cell_type": "markdown",
   "id": "b8ae0236",
   "metadata": {},
   "source": [
    "## Edge detection using canny"
   ]
  },
  {
   "cell_type": "code",
   "execution_count": null,
   "id": "f6af5b9e",
   "metadata": {},
   "outputs": [],
   "source": [
    "cam=cv.VideoCapture(0)\n",
    "while True:\n",
    "    _,img=cam.read()\n",
    "    img=cv.flip(img,1)\n",
    "    edge=cv.Canny(img,0,50)\n",
    "    cv.imshow(\"Frame\",img)\n",
    "    cv.imshow(\"Edge\",edge)\n",
    "    if (cv.waitKey(10)==13):\n",
    "        cv.imwrite(\"Edge selfie.png\",edge)\n",
    "        cam.release()\n",
    "        break"
   ]
  },
  {
   "cell_type": "code",
   "execution_count": 109,
   "id": "900ea13f",
   "metadata": {},
   "outputs": [
    {
     "data": {
      "text/plain": [
       "True"
      ]
     },
     "execution_count": 109,
     "metadata": {},
     "output_type": "execute_result"
    }
   ],
   "source": [
    "img=cv.imread(\"b.jpeg\")\n",
    "edge=cv.Canny(img,170,200)\n",
    "cv.imwrite(\"Edge det.png\",edge)"
   ]
  },
  {
   "cell_type": "markdown",
   "id": "9b2c3db0",
   "metadata": {},
   "source": [
    "## Creating shape in the frame "
   ]
  },
  {
   "cell_type": "code",
   "execution_count": null,
   "id": "a93fc6ef",
   "metadata": {},
   "outputs": [],
   "source": [
    "cam=cv.VideoCapture(0)\n",
    "while True:\n",
    "    _,img=cam.read()\n",
    "    img=cv.flip(img,1)\n",
    "    img=cv.rectangle(img,(150,200),(350,450),(125,35,70),2)\n",
    "    cv.imshow(\"Frame\",img)\n",
    "    if (cv.waitKey(10)==13):\n",
    "        cam.release()\n",
    "        break"
   ]
  },
  {
   "cell_type": "markdown",
   "id": "8a4a456e",
   "metadata": {},
   "source": [
    "## Taking a selfie"
   ]
  },
  {
   "cell_type": "code",
   "execution_count": 2,
   "id": "d287be93",
   "metadata": {},
   "outputs": [],
   "source": [
    "cam=cv.VideoCapture(0)\n",
    "while True:\n",
    "    _,img=cam.read()\n",
    "    cv.imshow(\"Table\",img)\n",
    "    key=cv.waitKey(10)\n",
    "\n",
    "    if key==13:\n",
    "        cv.imwrite(\"Selfie.png\",img)\n",
    "        cam.release()\n",
    "        break"
   ]
  },
  {
   "cell_type": "markdown",
   "id": "3772fd04",
   "metadata": {},
   "source": [
    "## Increasing brightness in live video"
   ]
  },
  {
   "cell_type": "code",
   "execution_count": null,
   "id": "5c6b27e6",
   "metadata": {},
   "outputs": [],
   "source": [
    "pixels = float(10)\n",
    "\n",
    "cam = cv.VideoCapture(0)\n",
    "\n",
    "while True:\n",
    "    \n",
    "    _, img = cam.read()\n",
    "    img = cv.flip(img, 1)\n",
    "    \n",
    "    img_1 = img + pixels\n",
    "    img_1[img_1 <  0 ] = 0\n",
    "    img_1[img_1 > 255] = 255\n",
    "    img_1 = img_1.astype(np.uint8)\n",
    "    \n",
    "    img_2 = img + (2*pixels)\n",
    "    img_2[img_2 <  0 ] = 0\n",
    "    img_2[img_2 > 255] = 255\n",
    "    img_2 = img_2.astype(np.uint8)\n",
    "    \n",
    "    img_3 = img + (3*pixels)\n",
    "    img_3[img_3 <  0 ] = 0\n",
    "    img_3[img_3 > 255] = 255\n",
    "    img_3 = img_3.astype(np.uint8)\n",
    "    \n",
    "    \n",
    "    cv.imshow(\"Original\",img)\n",
    "    cv.imshow(\"Filter-1\",img_1)\n",
    "    cv.imshow(\"Filter-2\",img_2)\n",
    "    cv.imshow(\"Filter-3\",img_3)\n",
    "    \n",
    "    if cv.waitKey(1) == 27:\n",
    "        cam.release()\n",
    "        break"
   ]
  },
  {
   "cell_type": "markdown",
   "id": "280bb32b",
   "metadata": {},
   "source": [
    "## Decreasing brightness in live feed"
   ]
  },
  {
   "cell_type": "code",
   "execution_count": null,
   "id": "bfdf77e8",
   "metadata": {},
   "outputs": [],
   "source": [
    "pixels = float(10)\n",
    "\n",
    "cam = cv.VideoCapture(0)\n",
    "\n",
    "while True:\n",
    "    \n",
    "    _, img = cam.read()\n",
    "    img = cv.flip(img, 1)\n",
    "    \n",
    "    img_1 = img - pixels\n",
    "    img_1[img_1 <  0 ] = 0\n",
    "    img_1[img_1 > 255] = 255\n",
    "    img_1 = img_1.astype(np.uint8)\n",
    "    \n",
    "    img_2 = img - (2*pixels)\n",
    "    img_2[img_2 <  0 ] = 0\n",
    "    img_2[img_2 > 255] = 255\n",
    "    img_2 = img_2.astype(np.uint8)\n",
    "    \n",
    "    img_3 = img - (3*pixels)\n",
    "    img_3[img_3 <  0 ] = 0\n",
    "    img_3[img_3 > 255] = 255\n",
    "    img_3 = img_3.astype(np.uint8)\n",
    "    \n",
    "    \n",
    "    cv.imshow(\"Original\",img)\n",
    "    cv.imshow(\"Filter-1\",img_1)\n",
    "    cv.imshow(\"Filter-2\",img_2)\n",
    "    cv.imshow(\"Filter-3\",img_3)\n",
    "    \n",
    "    if cv.waitKey(1) == 27:\n",
    "        cam.release()\n",
    "        break"
   ]
  },
  {
   "cell_type": "markdown",
   "id": "a8bb6042",
   "metadata": {},
   "source": [
    "## Adding Warmth tone in live feed"
   ]
  },
  {
   "cell_type": "code",
   "execution_count": null,
   "id": "53fbdaf0",
   "metadata": {},
   "outputs": [],
   "source": [
    "yellow = [108,222,249]\n",
    "\n",
    "background = []\n",
    "\n",
    "for i in range(720):\n",
    "    temp = []\n",
    "    for j in range(1280):\n",
    "        temp.append(yellow)\n",
    "    background.append(temp)\n",
    "    \n",
    "background = np.array(background).astype(np.uint8)\n",
    "\n",
    "\n",
    "cam = cv.VideoCapture(0)\n",
    "\n",
    "while True:\n",
    "    \n",
    "    _, img = cam.read()\n",
    "    img = cv.flip(img, 1)\n",
    "    \n",
    "    img = np.array(img).astype(np.uint8)\n",
    "    \n",
    "    merged = cv.addWeighted(img, .90, background, .10, 0)\n",
    "    \n",
    "    cv.imshow(\"Original\",img)\n",
    "    cv.imshow(\"Merged\",merged)\n",
    "    \n",
    "    if cv.waitKey(1) == 27:\n",
    "        cam.release()\n",
    "        break"
   ]
  },
  {
   "cell_type": "markdown",
   "id": "4ac1be7d",
   "metadata": {},
   "source": [
    "## Adding cooler tone in live feed"
   ]
  },
  {
   "cell_type": "code",
   "execution_count": null,
   "id": "f8edd664",
   "metadata": {},
   "outputs": [],
   "source": [
    "blue = [247,206,139]\n",
    "background = []\n",
    "\n",
    "for i in range(720):\n",
    "    temp = []\n",
    "    for j in range(1280):\n",
    "        temp.append(blue)\n",
    "    background.append(temp)\n",
    "    \n",
    "background = np.array(background).astype(np.uint8)\n",
    "\n",
    "\n",
    "cam = cv.VideoCapture(0)\n",
    "\n",
    "while True:\n",
    "    \n",
    "    _, img = cam.read()\n",
    "    img = cv.flip(img, 1)\n",
    "    \n",
    "    img = np.array(img).astype(np.uint8)\n",
    "    \n",
    "    merged = cv.addWeighted(img, .90, background, .10, 0)\n",
    "    \n",
    "    cv.imshow(\"Original\",img)\n",
    "    cv.imshow(\"Merged\",merged)\n",
    "    \n",
    "    if cv.waitKey(1) == 27:\n",
    "        cam.release()\n",
    "        break"
   ]
  },
  {
   "cell_type": "markdown",
   "id": "dac001eb",
   "metadata": {},
   "source": [
    "## Creating both the filters at once in live feed"
   ]
  },
  {
   "cell_type": "code",
   "execution_count": null,
   "id": "382701e3",
   "metadata": {},
   "outputs": [],
   "source": [
    "yellow = [108,222,249]\n",
    "\n",
    "yellow_background = []\n",
    "for i in range(720):\n",
    "    temp = []\n",
    "    for j in range(1280):\n",
    "        temp.append(yellow)\n",
    "    yellow_background.append(temp)\n",
    "    \n",
    "yellow_background = np.array(background).astype(np.uint8)\n",
    "\n",
    "\n",
    "blue = [247,206,139]\n",
    "\n",
    "blue_background = []\n",
    "for i in range(720):\n",
    "    temp = []\n",
    "    for j in range(1280):\n",
    "        temp.append(blue)\n",
    "    blue_background.append(temp)\n",
    "    \n",
    "blue_background = np.array(blue_background).astype(np.uint8)\n",
    "\n",
    "\n",
    "cam = cv.VideoCapture(0)\n",
    "\n",
    "while True:\n",
    "    \n",
    "    _, img = cam.read()\n",
    "    img = cv.flip(img, 1)\n",
    "    \n",
    "    img = np.array(img).astype(np.uint8)\n",
    "    \n",
    "    merged_yellow = cv.addWeighted(img, .90, yellow_background, .10, 0)\n",
    "    merged_blue = cv.addWeighted(img, .90, blue_background, .10, 0)\n",
    "    \n",
    "    cv.imshow(\"Original\",img)\n",
    "    cv.imshow(\"Yellow\"  ,merged_yellow)\n",
    "    cv.imshow(\"Blue\"    ,merged_blue)\n",
    "    \n",
    "    \n",
    "    if cv.waitKey(1) == 27:\n",
    "        cam.release()\n",
    "        break"
   ]
  },
  {
   "cell_type": "markdown",
   "id": "6537b667",
   "metadata": {},
   "source": [
    "## Adding custom color in image"
   ]
  },
  {
   "cell_type": "code",
   "execution_count": 17,
   "id": "7b8f8cc0",
   "metadata": {},
   "outputs": [],
   "source": [
    "def add_tone(img_path, color, a, b):\n",
    "    \n",
    "    background = []\n",
    "\n",
    "    img = cv.imread(img_path)\n",
    "    \n",
    "    rows = img.shape[0]\n",
    "    cols = img.shape[1]\n",
    "\n",
    "\n",
    "    for i in range(rows):\n",
    "        temp = []\n",
    "        for j in range(cols):\n",
    "            temp.append(color)\n",
    "\n",
    "        background.append(temp)\n",
    "\n",
    "    background = np.array(background).astype(np.uint8)\n",
    "\n",
    "    final = cv.addWeighted(img, a , background, b , 0)\n",
    "\n",
    "    #cv.imwrite('Original1.jpg',img)\n",
    "\n",
    "    cv.imwrite('Processedc.jpg',final)"
   ]
  },
  {
   "cell_type": "code",
   "execution_count": null,
   "id": "cd8800ed",
   "metadata": {},
   "outputs": [],
   "source": []
  },
  {
   "cell_type": "markdown",
   "id": "599f8cbc",
   "metadata": {},
   "source": [
    "## color value for pairs filter of instagram"
   ]
  },
  {
   "cell_type": "code",
   "execution_count": 94,
   "id": "3b4ea4bf",
   "metadata": {},
   "outputs": [],
   "source": [
    "add_tone(\"og1.jpg\",(133,117,98),0.82,0.18)"
   ]
  },
  {
   "cell_type": "code",
   "execution_count": null,
   "id": "741b9759",
   "metadata": {},
   "outputs": [],
   "source": []
  }
 ],
 "metadata": {
  "kernelspec": {
   "display_name": "Python 3 (ipykernel)",
   "language": "python",
   "name": "python3"
  },
  "language_info": {
   "codemirror_mode": {
    "name": "ipython",
    "version": 3
   },
   "file_extension": ".py",
   "mimetype": "text/x-python",
   "name": "python",
   "nbconvert_exporter": "python",
   "pygments_lexer": "ipython3",
   "version": "3.11.3"
  }
 },
 "nbformat": 4,
 "nbformat_minor": 5
}
